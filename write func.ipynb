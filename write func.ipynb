{
 "cells": [
  {
   "cell_type": "markdown",
   "source": [
    "@cache\n",
    "def long_time_func(a: int, b: int, c: int) -> int:\n",
    "    return (a ** b ** c) % (a * c)\n",
    "\n",
    "@cache\n",
    "def long_time_func_2(n_tuple: tuple, power: int) -> int:\n",
    "    return [number ** power for number in n_tuple]\n",
    "\n",
    "long_time_func(1, 2, 3)\n",
    "long_time_func(2, 2, 3)\n",
    "long_time_func_2((5, 6, 7), 5)\n",
    "long_time_func(1, 2, 3)\n",
    "long_time_func_2((5, 6, 7), 10)\n",
    "long_time_func_2((5, 6, 7), 10)\n",
    "\n",
    "# Calculating new result\n",
    "# Calculating new result\n",
    "# Calculating new result\n",
    "# Getting from cache\n",
    "# Calculating new result\n",
    "# Getting from cache"
   ],
   "metadata": {
    "collapsed": false
   }
  },
  {
   "cell_type": "code",
   "execution_count": 6,
   "outputs": [],
   "source": [
    "from typing import Callable\n",
    "from functools import wraps\n",
    "\n",
    "def cache(func):\n",
    "    dictionary_with_result = []\n",
    "    @wraps(func)\n",
    "    def check_cache_calls(*args):\n",
    "        if func.__name__ not in\n",
    "\n",
    "\n",
    "            else:\n",
    "                print(\"Calculating new result\")\n",
    "                func(args)\n",
    "                dictionary_with_result.append({\"func_name\": func.__name__, args: func(args)})\n",
    "                print(dictionary_with_result)\n",
    "        return check_cache_calls\n"
   ],
   "metadata": {
    "collapsed": false,
    "ExecuteTime": {
     "end_time": "2023-06-30T09:23:36.509375Z",
     "start_time": "2023-06-30T09:23:36.503964Z"
    }
   }
  },
  {
   "cell_type": "code",
   "execution_count": 7,
   "outputs": [],
   "source": [
    "# @cache\n",
    "def long_time_func(a: int, b: int, c: int) -> int:\n",
    "    return (a ** b ** c) % (a * c)\n",
    "\n",
    "\n",
    "# @cache\n",
    "def long_time_func_2(n_tuple: tuple, power: int) -> int:\n",
    "    return [number ** power for number in n_tuple]\n"
   ],
   "metadata": {
    "collapsed": false,
    "ExecuteTime": {
     "end_time": "2023-06-30T09:23:39.192043Z",
     "start_time": "2023-06-30T09:23:39.177533Z"
    }
   }
  },
  {
   "cell_type": "code",
   "execution_count": 12,
   "outputs": [
    {
     "ename": "TypeError",
     "evalue": "'NoneType' object is not callable",
     "output_type": "error",
     "traceback": [
      "\u001B[0;31m---------------------------------------------------------------------------\u001B[0m",
      "\u001B[0;31mTypeError\u001B[0m                                 Traceback (most recent call last)",
      "Cell \u001B[0;32mIn[12], line 1\u001B[0m\n\u001B[0;32m----> 1\u001B[0m \u001B[43mlong_time_func_2\u001B[49m\u001B[43m(\u001B[49m\u001B[38;5;241;43m1\u001B[39;49m\u001B[43m,\u001B[49m\u001B[43m \u001B[49m\u001B[38;5;241;43m2\u001B[39;49m\u001B[43m,\u001B[49m\u001B[43m \u001B[49m\u001B[38;5;241;43m3\u001B[39;49m\u001B[43m)\u001B[49m\n",
      "\u001B[0;31mTypeError\u001B[0m: 'NoneType' object is not callable"
     ]
    }
   ],
   "source": [
    "long_time_func_2(1, 2, 3)"
   ],
   "metadata": {
    "collapsed": false,
    "ExecuteTime": {
     "end_time": "2023-06-30T09:29:40.126382Z",
     "start_time": "2023-06-30T09:29:40.096112Z"
    }
   }
  },
  {
   "cell_type": "code",
   "execution_count": 13,
   "outputs": [
    {
     "data": {
      "text/plain": "False"
     },
     "execution_count": 13,
     "metadata": {},
     "output_type": "execute_result"
    }
   ],
   "source": [
    "test = [{1: 2}, {3: 1}]\n",
    "\n",
    "3 in test"
   ],
   "metadata": {
    "collapsed": false,
    "ExecuteTime": {
     "end_time": "2023-06-30T10:08:57.107411Z",
     "start_time": "2023-06-30T10:08:57.098138Z"
    }
   }
  },
  {
   "cell_type": "code",
   "execution_count": null,
   "outputs": [],
   "source": [],
   "metadata": {
    "collapsed": false
   }
  }
 ],
 "metadata": {
  "kernelspec": {
   "display_name": "Python 3",
   "language": "python",
   "name": "python3"
  },
  "language_info": {
   "codemirror_mode": {
    "name": "ipython",
    "version": 2
   },
   "file_extension": ".py",
   "mimetype": "text/x-python",
   "name": "python",
   "nbconvert_exporter": "python",
   "pygments_lexer": "ipython2",
   "version": "2.7.6"
  }
 },
 "nbformat": 4,
 "nbformat_minor": 0
}
