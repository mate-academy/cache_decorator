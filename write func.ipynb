{
 "cells": [
  {
   "cell_type": "markdown",
   "source": [
    "@cache\n",
    "def long_time_func(a: int, b: int, c: int) -> int:\n",
    "    return (a ** b ** c) % (a * c)\n",
    "\n",
    "@cache\n",
    "def long_time_func_2(n_tuple: tuple, power: int) -> int:\n",
    "    return [number ** power for number in n_tuple]\n",
    "\n",
    "long_time_func(1, 2, 3)\n",
    "long_time_func(2, 2, 3)\n",
    "long_time_func_2((5, 6, 7), 5)\n",
    "long_time_func(1, 2, 3)\n",
    "long_time_func_2((5, 6, 7), 10)\n",
    "long_time_func_2((5, 6, 7), 10)\n",
    "\n",
    "# Calculating new result\n",
    "# Calculating new result\n",
    "# Calculating new result\n",
    "# Getting from cache\n",
    "# Calculating new result\n",
    "# Getting from cache"
   ],
   "metadata": {
    "collapsed": false
   }
  },
  {
   "cell_type": "code",
   "execution_count": 54,
   "outputs": [],
   "source": [
    "from typing import Callable, Any\n",
    "\n",
    "\n",
    "def cache(func: Callable) -> Callable:\n",
    "    cache_dict = {}\n",
    "\n",
    "    def wrapper(*args) -> Any:\n",
    "        if args not in cache_dict.keys():\n",
    "            cache_dict[args] = func(*args)\n",
    "            print(\"Calculating new result\")\n",
    "        else:\n",
    "            print(\"Getting from cache\")\n",
    "        return cache_dict[args]\n",
    "\n",
    "    return wrapper"
   ],
   "metadata": {
    "collapsed": false,
    "ExecuteTime": {
     "end_time": "2023-06-30T11:35:37.352591Z",
     "start_time": "2023-06-30T11:35:37.345905Z"
    }
   }
  },
  {
   "cell_type": "code",
   "execution_count": 59,
   "outputs": [
    {
     "name": "stdout",
     "output_type": "stream",
     "text": [
      "Getting from cache\n",
      "Calculating new result\n",
      "Getting from cache\n",
      "Calculating new result\n",
      "Calculating new result\n"
     ]
    },
    {
     "data": {
      "text/plain": "6"
     },
     "execution_count": 59,
     "metadata": {},
     "output_type": "execute_result"
    }
   ],
   "source": [
    "long_time_func(1, 2, 3)\n",
    "long_time_func(2, 2, 3)\n",
    "long_time_func(1, 2, 3)\n",
    "long_time_func(3, 4, 5)\n",
    "long_time_func(3, 4, 5)"
   ],
   "metadata": {
    "collapsed": false,
    "ExecuteTime": {
     "end_time": "2023-06-30T12:08:02.991364Z",
     "start_time": "2023-06-30T12:08:02.987258Z"
    }
   }
  },
  {
   "cell_type": "markdown",
   "source": [
    "                 output must be:\n",
    "                        Calculating new result\n",
    "        Calculating new result\n",
    "        Getting from cache\n",
    "        Calculating new result\n",
    "        Getting from cache\n",
    "        ,\n",
    "\n",
    "                        while calls are:\n",
    "                            long_time_func(1, 2, 3)\n",
    "                            long_time_func(2, 2, 3)\n",
    "                            long_time_func(1, 2, 3)\n",
    "                            long_time_func(3, 4, 5)\n",
    "                            long_time_func(3, 4, 5)"
   ],
   "metadata": {
    "collapsed": false
   }
  },
  {
   "cell_type": "code",
   "execution_count": 50,
   "outputs": [
    {
     "name": "stdout",
     "output_type": "stream",
     "text": [
      "{'test_func': {(1, 2, 3, 4, 5, 6, 7): 28}}\n",
      "Calculating new result\n",
      "Getting from cache\n"
     ]
    },
    {
     "data": {
      "text/plain": "28"
     },
     "execution_count": 50,
     "metadata": {},
     "output_type": "execute_result"
    }
   ],
   "source": [
    "# dictionary_with_result = {}\n",
    "\n",
    "\n",
    "def check_cache_calls1(func, *args):\n",
    "    if func.__name__ not in dictionary_with_result:\n",
    "        dictionary_with_result[func.__name__] = {args: sum(args)}\n",
    "        print(dictionary_with_result)\n",
    "    elif func.__name__ in dictionary_with_result and args in dictionary_with_result[func.__name__]:\n",
    "        print(\"Getting from cache\")\n",
    "        return dictionary_with_result[func.__name__][args]\n",
    "\n",
    "    print(\"Calculating new result\")\n",
    "    res = func(args)\n",
    "    return res\n",
    "\n",
    "\n",
    "def test_func(*args):\n",
    "    pass\n",
    "\n",
    "\n",
    "check_cache_calls1(test_func, 1, 2, 3, 4, 5, 6, 7)\n",
    "check_cache_calls1(test_func, 1, 2, 3, 4, 5, 6, 7)"
   ],
   "metadata": {
    "collapsed": false,
    "ExecuteTime": {
     "end_time": "2023-06-30T11:21:31.164848Z",
     "start_time": "2023-06-30T11:21:31.160010Z"
    }
   }
  },
  {
   "cell_type": "code",
   "execution_count": 41,
   "outputs": [
    {
     "data": {
      "text/plain": "True"
     },
     "execution_count": 41,
     "metadata": {},
     "output_type": "execute_result"
    }
   ],
   "source": [
    "test = {'test_func': {\"args\": 500}, 'test_func2': {\"args\": 500}}\n",
    "\"args\" in test['test_func']"
   ],
   "metadata": {
    "collapsed": false,
    "ExecuteTime": {
     "end_time": "2023-06-30T11:12:35.808810Z",
     "start_time": "2023-06-30T11:12:35.805353Z"
    }
   }
  },
  {
   "cell_type": "code",
   "execution_count": null,
   "outputs": [],
   "source": [],
   "metadata": {
    "collapsed": false
   }
  }
 ],
 "metadata": {
  "kernelspec": {
   "display_name": "Python 3",
   "language": "python",
   "name": "python3"
  },
  "language_info": {
   "codemirror_mode": {
    "name": "ipython",
    "version": 2
   },
   "file_extension": ".py",
   "mimetype": "text/x-python",
   "name": "python",
   "nbconvert_exporter": "python",
   "pygments_lexer": "ipython2",
   "version": "2.7.6"
  }
 },
 "nbformat": 4,
 "nbformat_minor": 0
}
